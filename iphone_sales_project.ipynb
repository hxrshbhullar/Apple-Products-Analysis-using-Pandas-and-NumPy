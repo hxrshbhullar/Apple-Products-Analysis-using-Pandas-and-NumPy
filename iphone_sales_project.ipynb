{
  "nbformat": 4,
  "nbformat_minor": 0,
  "metadata": {
    "colab": {
      "provenance": [],
      "authorship_tag": "ABX9TyPp+pYO1XAHCp5mGyKU42dG",
      "include_colab_link": true
    },
    "kernelspec": {
      "name": "python3",
      "display_name": "Python 3"
    },
    "language_info": {
      "name": "python"
    }
  },
  "cells": [
    {
      "cell_type": "markdown",
      "metadata": {
        "id": "view-in-github",
        "colab_type": "text"
      },
      "source": [
        "<a href=\"https://colab.research.google.com/github/hxrshbhullar/Apple-Products-Analysis-using-Pandas-and-NumPy/blob/main/iphone_sales_project.ipynb\" target=\"_parent\"><img src=\"https://colab.research.google.com/assets/colab-badge.svg\" alt=\"Open In Colab\"/></a>"
      ]
    },
    {
      "cell_type": "markdown",
      "source": [
        "## Importing dataset and checking pre-requisites"
      ],
      "metadata": {
        "id": "OSv-ZaceyFak"
      }
    },
    {
      "cell_type": "code",
      "execution_count": null,
      "metadata": {
        "colab": {
          "base_uri": "https://localhost:8080/"
        },
        "id": "DTVJW9c5ni9e",
        "outputId": "94a949af-6e8a-4c1a-b006-b5eb6ac41dc1"
      },
      "outputs": [
        {
          "output_type": "stream",
          "name": "stdout",
          "text": [
            "                               Product Name  \\\n",
            "0         APPLE iPhone 8 Plus (Gold, 64 GB)   \n",
            "1  APPLE iPhone 8 Plus (Space Grey, 256 GB)   \n",
            "2      APPLE iPhone 8 Plus (Silver, 256 GB)   \n",
            "3           APPLE iPhone 8 (Silver, 256 GB)   \n",
            "4             APPLE iPhone 8 (Gold, 256 GB)   \n",
            "\n",
            "                                         Product URL  Brand  Sale Price  \\\n",
            "0  https://www.flipkart.com/apple-iphone-8-plus-g...  Apple       49900   \n",
            "1  https://www.flipkart.com/apple-iphone-8-plus-s...  Apple       84900   \n",
            "2  https://www.flipkart.com/apple-iphone-8-plus-s...  Apple       84900   \n",
            "3  https://www.flipkart.com/apple-iphone-8-silver...  Apple       77000   \n",
            "4  https://www.flipkart.com/apple-iphone-8-gold-2...  Apple       77000   \n",
            "\n",
            "     Mrp  Discount Percentage  Number Of Ratings  Number Of Reviews  \\\n",
            "0  49900                    0               3431                356   \n",
            "1  84900                    0               3431                356   \n",
            "2  84900                    0               3431                356   \n",
            "3  77000                    0              11202                794   \n",
            "4  77000                    0              11202                794   \n",
            "\n",
            "                Upc  Star Rating   Ram  \n",
            "0  MOBEXRGV7EHHTGUH          4.6  2 GB  \n",
            "1  MOBEXRGVAC6TJT4F          4.6  2 GB  \n",
            "2  MOBEXRGVGETABXWZ          4.6  2 GB  \n",
            "3  MOBEXRGVMZWUHCBA          4.5  2 GB  \n",
            "4  MOBEXRGVPK7PFEJZ          4.5  2 GB  \n",
            "          Sale Price            Mrp  Discount Percentage  Number Of Ratings  \\\n",
            "count      62.000000      62.000000            62.000000          62.000000   \n",
            "mean    80073.887097   88058.064516             9.951613       22420.403226   \n",
            "std     34310.446132   34728.825597             7.608079       33768.589550   \n",
            "min     29999.000000   39900.000000             0.000000         542.000000   \n",
            "25%     49900.000000   54900.000000             6.000000         740.000000   \n",
            "50%     75900.000000   79900.000000            10.000000        2101.000000   \n",
            "75%    117100.000000  120950.000000            14.000000       43470.000000   \n",
            "max    140900.000000  149900.000000            29.000000       95909.000000   \n",
            "\n",
            "       Number Of Reviews  Star Rating  \n",
            "count          62.000000    62.000000  \n",
            "mean         1861.677419     4.575806  \n",
            "std          2855.883830     0.059190  \n",
            "min            42.000000     4.500000  \n",
            "25%            64.000000     4.500000  \n",
            "50%           180.000000     4.600000  \n",
            "75%          3331.000000     4.600000  \n",
            "max          8161.000000     4.700000  \n",
            "Product Name           0\n",
            "Product URL            0\n",
            "Brand                  0\n",
            "Sale Price             0\n",
            "Mrp                    0\n",
            "Discount Percentage    0\n",
            "Number Of Ratings      0\n",
            "Number Of Reviews      0\n",
            "Upc                    0\n",
            "Star Rating            0\n",
            "Ram                    0\n",
            "dtype: int64\n"
          ]
        }
      ],
      "source": [
        "import pandas as pd\n",
        "import numpy as np\n",
        "data = pd.read_csv (\"/content/apple_products.csv\")\n",
        "print(data.head()) #check head to get an overview\n",
        "print(data.describe()) #check describe to know the mean, std etc\n",
        "print (data.isnull().sum()) #this shows the sum of null values in each column\n",
        "#check these 3 things before any data analysis"
      ]
    },
    {
      "cell_type": "markdown",
      "source": [
        "## **Level 1**\n"
      ],
      "metadata": {
        "id": "dd89fcEUYgBX"
      }
    },
    {
      "cell_type": "markdown",
      "source": [
        "#### 1. Check unique products"
      ],
      "metadata": {
        "id": "-lz4fAXkZOGv"
      }
    },
    {
      "cell_type": "code",
      "source": [
        "dupliprod = data.duplicated(\"Product Name\").sum()\n",
        "print ('Duplicate Products = ',dupliprod)\n",
        "\n",
        "dupliurl = data.duplicated(\"Product URL\").sum()\n",
        "print ('Duplicat URL = ',dupliurl)\n",
        "\n",
        "dupliupc = data.duplicated(\"Upc\").sum()\n",
        "print ('Duplicate UPC = ',dupliupc)\n",
        "\n",
        "dropdupli = data.drop_duplicates(subset=['Product Name','Ram'])\n",
        "#print (dropdupli)\n",
        "dropdupli.shape[0] # An easy way to check the duplicates instead of using 'print (dropdupli)'"
      ],
      "metadata": {
        "colab": {
          "base_uri": "https://localhost:8080/"
        },
        "id": "RfYEAMUlYMZ4",
        "outputId": "93cb6d5c-b3e5-4575-ad70-9b97f3b16fb6"
      },
      "execution_count": null,
      "outputs": [
        {
          "output_type": "stream",
          "name": "stdout",
          "text": [
            "Duplicate Products =  0\n",
            "Duplicat URL =  0\n",
            "Duplicate UPC =  0\n"
          ]
        },
        {
          "output_type": "execute_result",
          "data": {
            "text/plain": [
              "62"
            ]
          },
          "metadata": {},
          "execution_count": 43
        }
      ]
    },
    {
      "cell_type": "markdown",
      "source": [
        "#### 2. Different RAM varients"
      ],
      "metadata": {
        "id": "Rwb1xs7qZSFs"
      }
    },
    {
      "cell_type": "code",
      "source": [
        "ram_count = data['Ram'].value_counts()\n",
        "print (ram_count)"
      ],
      "metadata": {
        "colab": {
          "base_uri": "https://localhost:8080/"
        },
        "id": "-2dzC00ikE9X",
        "outputId": "904868f4-4787-43bc-d6ad-cbf141feab13"
      },
      "execution_count": null,
      "outputs": [
        {
          "output_type": "stream",
          "name": "stdout",
          "text": [
            "Ram\n",
            "4 GB    29\n",
            "6 GB    19\n",
            "2 GB    13\n",
            "3 GB     1\n",
            "Name: count, dtype: int64\n"
          ]
        }
      ]
    },
    {
      "cell_type": "markdown",
      "source": [
        "#### 3. Average Discounted Percentage"
      ],
      "metadata": {
        "id": "qp7rVKSjZUH5"
      }
    },
    {
      "cell_type": "code",
      "source": [
        "# we need to make sure that the specific column has clean and structured data i.e, not 15% which will be considered as str.\n",
        "# we can do this by checking the datatype in the column\n",
        "print(data['Discount Percentage'].dtype)\n",
        "avg_disperc = data['Discount Percentage'].mean()\n",
        "print (f'Average Discounted Percentage is {avg_disperc:.2f}') #rounding  off to 2 decimal places"
      ],
      "metadata": {
        "colab": {
          "base_uri": "https://localhost:8080/"
        },
        "id": "yEkVWnkHrDbf",
        "outputId": "32413629-7d43-4238-a195-8e875d30614f"
      },
      "execution_count": null,
      "outputs": [
        {
          "output_type": "stream",
          "name": "stdout",
          "text": [
            "int64\n",
            "Average Discounted Percentage is 9.95\n"
          ]
        }
      ]
    },
    {
      "cell_type": "markdown",
      "source": [
        "#### 4. Number of models with ratings >= 4.5"
      ],
      "metadata": {
        "id": "ixRfebxYZWPW"
      }
    },
    {
      "cell_type": "code",
      "source": [
        "print (data['Star Rating'].dtype)\n",
        "model_ratings = data['Star Rating']>=4.5\n",
        "print (f'Number of Models with Ratings >= 4.5 are {model_ratings.sum()}') #using sum() to count True values"
      ],
      "metadata": {
        "colab": {
          "base_uri": "https://localhost:8080/"
        },
        "id": "avv3EvPsvmY_",
        "outputId": "adeb18c5-c117-4539-e343-f1ec725952ba"
      },
      "execution_count": null,
      "outputs": [
        {
          "output_type": "stream",
          "name": "stdout",
          "text": [
            "float64\n",
            "Number of Models with Ratings >= 4.5 are 62\n"
          ]
        }
      ]
    },
    {
      "cell_type": "markdown",
      "source": [
        "## **Level 2**"
      ],
      "metadata": {
        "id": "BOjZIE0rzDDH"
      }
    },
    {
      "cell_type": "markdown",
      "source": [
        "#### 1. Which product has the highest number of ratings? What’s its rating and discount?"
      ],
      "metadata": {
        "id": "HRVOZHwKzHMf"
      }
    },
    {
      "cell_type": "code",
      "source": [
        "# here we need to extarct the info like Product Name, Rating and Discount Percentage\n",
        "max_ratings = data['Number Of Ratings'].max()\n",
        "print (max_ratings)\n",
        "maxprod_rating = data[data['Number Of Ratings'] == max_ratings] #extracting\n",
        "print (maxprod_rating[['Product Name', 'Star Rating', 'Discount Percentage']])"
      ],
      "metadata": {
        "colab": {
          "base_uri": "https://localhost:8080/"
        },
        "id": "WaXWIlTNzaEO",
        "outputId": "00064f90-c679-4367-dfbd-19998007b65f"
      },
      "execution_count": null,
      "outputs": [
        {
          "output_type": "stream",
          "name": "stdout",
          "text": [
            "95909\n",
            "                                         Product Name  Star Rating  \\\n",
            "23  Apple iPhone SE (White, 256 GB) (Includes EarP...          4.5   \n",
            "53                    APPLE iPhone SE (Black, 128 GB)          4.5   \n",
            "55                      APPLE iPhone SE (Red, 128 GB)          4.5   \n",
            "57                     APPLE iPhone SE (Black, 64 GB)          4.5   \n",
            "\n",
            "    Discount Percentage  \n",
            "23                   18  \n",
            "53                   22  \n",
            "55                   22  \n",
            "57                   24  \n"
          ]
        }
      ]
    },
    {
      "cell_type": "markdown",
      "source": [
        "#### 2. Is there a correlation between discount percentage and number of ratings?"
      ],
      "metadata": {
        "id": "3oFLYqFdzMDs"
      }
    },
    {
      "cell_type": "code",
      "source": [
        "x = data['Discount Percentage'].values\n",
        "y = data['Number Of Ratings'].values\n",
        "corr = np.corrcoef(x,y)\n",
        "print (corr)"
      ],
      "metadata": {
        "colab": {
          "base_uri": "https://localhost:8080/"
        },
        "id": "-mbhELwk52XT",
        "outputId": "ae789812-21fe-481a-a934-6cec7ce47c20"
      },
      "execution_count": null,
      "outputs": [
        {
          "output_type": "stream",
          "name": "stdout",
          "text": [
            "[[1.         0.68482706]\n",
            " [0.68482706 1.        ]]\n"
          ]
        }
      ]
    },
    {
      "cell_type": "markdown",
      "source": [
        "#### 3. Find the top 5 most expensive products after discount. What are their ratings?"
      ],
      "metadata": {
        "id": "VDmG-py5zOut"
      }
    },
    {
      "cell_type": "code",
      "source": [
        "# better approach: sort the entire dataset by Sale Price and then slice top 5\n",
        "exp_prod = data.sort_values(by='Sale Price', ascending=False)\n",
        "print (exp_prod[['Product Name', 'Star Rating', 'Sale Price']][:5])"
      ],
      "metadata": {
        "colab": {
          "base_uri": "https://localhost:8080/"
        },
        "id": "bm_NOSCL9JJC",
        "outputId": "b481b25d-5348-4fdd-b6d6-d0fd9203f0dc"
      },
      "execution_count": null,
      "outputs": [
        {
          "output_type": "stream",
          "name": "stdout",
          "text": [
            "                                        Product Name  Star Rating  Sale Price\n",
            "24              APPLE iPhone 12 Pro (Silver, 512 GB)          4.5      140900\n",
            "41        APPLE iPhone 12 Pro (Pacific Blue, 512 GB)          4.5      140900\n",
            "16  APPLE iPhone 11 Pro Max (Midnight Green, 256 GB)          4.7      131900\n",
            "14            APPLE iPhone 11 Pro Max (Gold, 256 GB)          4.7      131900\n",
            "31        APPLE iPhone 12 Pro Max (Graphite, 256 GB)          4.6      130900\n"
          ]
        }
      ]
    },
    {
      "cell_type": "markdown",
      "source": [
        "#### 4. How many unique products are sold under each storage variant?"
      ],
      "metadata": {
        "id": "FsqPYLSLzRJ9"
      }
    },
    {
      "cell_type": "code",
      "source": [
        "#data[['Product Model', 'Config']] = data['Product Name'].str.split('(', expand=True)\n",
        "#data[['Color', 'Storage']] = data['Config'].str.split(',', expand=True)\n",
        "#print (data['Storage'])\n",
        "#this shows error. Need to store it into a temporary variable and check step by step if it splits and how its saved"
      ],
      "metadata": {
        "id": "xQmtqnUSAJxc"
      },
      "execution_count": null,
      "outputs": []
    },
    {
      "cell_type": "code",
      "source": [
        "print (data['Product Name'])\n",
        "temp1 = data['Product Name'].str.split('(', expand=True)\n",
        "print (temp1)\n",
        "config = temp1[1]\n",
        "temp2 = config.str.split(',', expand = True)\n",
        "print (temp2)\n",
        "Storage = temp2[1]\n",
        "print (Storage)\n",
        "data['Storage'] = Storage\n"
      ],
      "metadata": {
        "colab": {
          "base_uri": "https://localhost:8080/"
        },
        "id": "LxboxEaHHNqT",
        "outputId": "a08d5549-6577-48f3-9605-d9680908ebb2"
      },
      "execution_count": null,
      "outputs": [
        {
          "output_type": "stream",
          "name": "stdout",
          "text": [
            "0            APPLE iPhone 8 Plus (Gold, 64 GB)\n",
            "1     APPLE iPhone 8 Plus (Space Grey, 256 GB)\n",
            "2         APPLE iPhone 8 Plus (Silver, 256 GB)\n",
            "3              APPLE iPhone 8 (Silver, 256 GB)\n",
            "4                APPLE iPhone 8 (Gold, 256 GB)\n",
            "                        ...                   \n",
            "57              APPLE iPhone SE (Black, 64 GB)\n",
            "58             APPLE iPhone 11 (Purple, 64 GB)\n",
            "59              APPLE iPhone 11 (White, 64 GB)\n",
            "60              APPLE iPhone 11 (Black, 64 GB)\n",
            "61                APPLE iPhone 11 (Red, 64 GB)\n",
            "Name: Product Name, Length: 62, dtype: object\n",
            "                       0                    1     2     3\n",
            "0   APPLE iPhone 8 Plus          Gold, 64 GB)  None  None\n",
            "1   APPLE iPhone 8 Plus   Space Grey, 256 GB)  None  None\n",
            "2   APPLE iPhone 8 Plus       Silver, 256 GB)  None  None\n",
            "3        APPLE iPhone 8       Silver, 256 GB)  None  None\n",
            "4        APPLE iPhone 8         Gold, 256 GB)  None  None\n",
            "..                   ...                  ...   ...   ...\n",
            "57      APPLE iPhone SE         Black, 64 GB)  None  None\n",
            "58      APPLE iPhone 11        Purple, 64 GB)  None  None\n",
            "59      APPLE iPhone 11         White, 64 GB)  None  None\n",
            "60      APPLE iPhone 11         Black, 64 GB)  None  None\n",
            "61      APPLE iPhone 11           Red, 64 GB)  None  None\n",
            "\n",
            "[62 rows x 4 columns]\n",
            "             0         1\n",
            "0         Gold    64 GB)\n",
            "1   Space Grey   256 GB)\n",
            "2       Silver   256 GB)\n",
            "3       Silver   256 GB)\n",
            "4         Gold   256 GB)\n",
            "..         ...       ...\n",
            "57       Black    64 GB)\n",
            "58      Purple    64 GB)\n",
            "59       White    64 GB)\n",
            "60       Black    64 GB)\n",
            "61         Red    64 GB)\n",
            "\n",
            "[62 rows x 2 columns]\n",
            "0       64 GB)\n",
            "1      256 GB)\n",
            "2      256 GB)\n",
            "3      256 GB)\n",
            "4      256 GB)\n",
            "        ...   \n",
            "57      64 GB)\n",
            "58      64 GB)\n",
            "59      64 GB)\n",
            "60      64 GB)\n",
            "61      64 GB)\n",
            "Name: 1, Length: 62, dtype: object\n"
          ]
        }
      ]
    },
    {
      "cell_type": "code",
      "source": [
        "# checking if it has null values\n",
        "print (data['Storage'].isnull().sum())\n",
        "print (data.loc[Storage.isnull(), 'Product Name']) # Found the error\n",
        "data['Storage'] = Storage.fillna('128 GB')\n",
        "print (data['Storage'][:10])"
      ],
      "metadata": {
        "colab": {
          "base_uri": "https://localhost:8080/"
        },
        "id": "LyFmEZOGH1Op",
        "outputId": "a4f47df1-e7c9-438f-dd18-bd8082f9685b"
      },
      "execution_count": null,
      "outputs": [
        {
          "output_type": "stream",
          "name": "stdout",
          "text": [
            "1\n",
            "9    Apple iPhone XR ((PRODUCT)RED, 128 GB) (Includ...\n",
            "Name: Product Name, dtype: object\n",
            "0      64 GB)\n",
            "1     256 GB)\n",
            "2     256 GB)\n",
            "3     256 GB)\n",
            "4     256 GB)\n",
            "5      64 GB)\n",
            "6      64 GB)\n",
            "7     256 GB)\n",
            "8      64 GB)\n",
            "9      128 GB\n",
            "Name: Storage, dtype: object\n"
          ]
        }
      ]
    },
    {
      "cell_type": "code",
      "source": [
        "# removing ) from the Storage\n",
        "data['Storage'] = data['Storage'].str.replace(')', '', regex=False)\n",
        "print (data['Storage'])"
      ],
      "metadata": {
        "colab": {
          "base_uri": "https://localhost:8080/"
        },
        "id": "q07XTrCzJw3l",
        "outputId": "abc5eded-d9eb-4979-ec05-53aac4b68fb1"
      },
      "execution_count": null,
      "outputs": [
        {
          "output_type": "stream",
          "name": "stdout",
          "text": [
            "0       64 GB\n",
            "1      256 GB\n",
            "2      256 GB\n",
            "3      256 GB\n",
            "4      256 GB\n",
            "       ...   \n",
            "57      64 GB\n",
            "58      64 GB\n",
            "59      64 GB\n",
            "60      64 GB\n",
            "61      64 GB\n",
            "Name: Storage, Length: 62, dtype: object\n"
          ]
        }
      ]
    },
    {
      "cell_type": "code",
      "source": [
        "# unique products sold under each storage varient\n",
        "unique_prod = data['Storage'].value_counts()\n",
        "print (unique_prod) #gives trailing whitespaces leading to a wrong answer"
      ],
      "metadata": {
        "colab": {
          "base_uri": "https://localhost:8080/"
        },
        "id": "A4_hFxntKPaW",
        "outputId": "fc43b402-7ccd-49d6-86ae-fbe32c36e295"
      },
      "execution_count": null,
      "outputs": [
        {
          "output_type": "stream",
          "name": "stdout",
          "text": [
            "Storage\n",
            " 128 GB     20\n",
            " 64 GB      19\n",
            " 256 GB     13\n",
            " 512 GB      4\n",
            " 128 GB      3\n",
            "128 GB       1\n",
            " 64 GB       1\n",
            " 256 GB      1\n",
            "Name: count, dtype: int64\n"
          ]
        }
      ]
    },
    {
      "cell_type": "code",
      "source": [
        "# removing whitespaces\n",
        "data['Storage'] = data['Storage'].str.strip()\n",
        "uniq_prods = data['Storage'].value_counts() #counts all rows that have the value\n",
        "print (uniq_prods)\n",
        "\n",
        "# unique products sold under each storage varient\n",
        "grp_uniq = data.groupby('Storage')['Product Name'].nunique() #counts only unique rows\n",
        "print (grp_uniq)"
      ],
      "metadata": {
        "colab": {
          "base_uri": "https://localhost:8080/"
        },
        "id": "embaAtC5LF37",
        "outputId": "da5bbf9e-9765-4746-9b5c-2478eda39f76"
      },
      "execution_count": null,
      "outputs": [
        {
          "output_type": "stream",
          "name": "stdout",
          "text": [
            "Storage\n",
            "128 GB    24\n",
            "64 GB     20\n",
            "256 GB    14\n",
            "512 GB     4\n",
            "Name: count, dtype: int64\n",
            "Storage\n",
            "128 GB    24\n",
            "256 GB    14\n",
            "512 GB     4\n",
            "64 GB     20\n",
            "Name: Product Name, dtype: int64\n"
          ]
        }
      ]
    },
    {
      "cell_type": "markdown",
      "source": [
        "#### 5. Clean RAM column to store only integers."
      ],
      "metadata": {
        "id": "RU5aN4a8zUh1"
      }
    },
    {
      "cell_type": "code",
      "source": [
        "# need to separate GB from int\n",
        "data['Ram'] = data['Ram'].astype(str).str.replace('GB', '', regex=False)\n",
        "data['Ram'] = data['Ram'].str.strip()\n",
        "data['Ram'] = data['Ram'].astype(int)\n",
        "\n",
        "#or\n",
        "data['Ram'] = data['Ram'].astype(str).str.replace('GB', '', regex=False).str.strip().astype(int) #an easy way"
      ],
      "metadata": {
        "id": "vwa4NB3rN7-J"
      },
      "execution_count": null,
      "outputs": []
    },
    {
      "cell_type": "markdown",
      "source": [
        "#### 6. Identify products with zero discount. Do they still have high ratings?"
      ],
      "metadata": {
        "id": "iu48OerfzXcy"
      }
    },
    {
      "cell_type": "code",
      "source": [
        "zero = data['Discount Percentage'] == 0\n",
        "zero_disc = data[zero]\n",
        "print (zero_disc[['Product Name','Star Rating']])"
      ],
      "metadata": {
        "colab": {
          "base_uri": "https://localhost:8080/"
        },
        "id": "mhpz9_izPy3N",
        "outputId": "c73c8554-e32f-458e-83e7-ddca55edfa82"
      },
      "execution_count": null,
      "outputs": [
        {
          "output_type": "stream",
          "name": "stdout",
          "text": [
            "                                        Product Name  Star Rating\n",
            "0                  APPLE iPhone 8 Plus (Gold, 64 GB)          4.6\n",
            "1           APPLE iPhone 8 Plus (Space Grey, 256 GB)          4.6\n",
            "2               APPLE iPhone 8 Plus (Silver, 256 GB)          4.6\n",
            "3                    APPLE iPhone 8 (Silver, 256 GB)          4.5\n",
            "4                      APPLE iPhone 8 (Gold, 256 GB)          4.5\n",
            "5                APPLE iPhone 8 Plus (Silver, 64 GB)          4.6\n",
            "6            APPLE iPhone 8 Plus (Space Grey, 64 GB)          4.6\n",
            "7                APPLE iPhone 8 (Space Grey, 256 GB)          4.5\n",
            "8                APPLE iPhone XS Max (Silver, 64 GB)          4.6\n",
            "14            APPLE iPhone 11 Pro Max (Gold, 256 GB)          4.7\n",
            "15             APPLE iPhone 11 Pro Max (Gold, 64 GB)          4.7\n",
            "16  APPLE iPhone 11 Pro Max (Midnight Green, 256 GB)          4.7\n",
            "17       APPLE iPhone 11 Pro Max (Space Grey, 64 GB)          4.7\n",
            "20   APPLE iPhone 11 Pro Max (Midnight Green, 64 GB)          4.7\n"
          ]
        }
      ]
    },
    {
      "cell_type": "markdown",
      "source": [
        "## **Level 3**"
      ],
      "metadata": {
        "id": "YhUytTPUSNrD"
      }
    },
    {
      "cell_type": "markdown",
      "source": [
        "#### 1. Which products have a rating above 4.6 but fewer than 1000 reviews?"
      ],
      "metadata": {
        "id": "vKRkSzGuSQ64"
      }
    },
    {
      "cell_type": "code",
      "source": [
        "high_rating = data['Star Rating']>=4.6\n",
        "print (high_rating.sum())\n",
        "less_nor = data['Number Of Ratings']<1000\n",
        "print (less_nor.sum())\n",
        "\n",
        "lvl3i = (high_rating) & (less_nor)\n",
        "print (lvl3i.sum())\n",
        "\n",
        "#to get the Product Name and Sale Price, you need to use a loc function\n",
        "print (data.loc[lvl3i, ['Product Name', 'Sale Price']])"
      ],
      "metadata": {
        "colab": {
          "base_uri": "https://localhost:8080/"
        },
        "id": "mI1PAMpOSVAY",
        "outputId": "b981948b-a081-4bfe-e81b-74ed7915f0ea"
      },
      "execution_count": null,
      "outputs": [
        {
          "output_type": "stream",
          "name": "stdout",
          "text": [
            "42\n",
            "19\n",
            "8\n",
            "                                      Product Name  Sale Price\n",
            "25  APPLE iPhone 12 Pro Max (Pacific Blue, 256 GB)      130900\n",
            "31      APPLE iPhone 12 Pro Max (Graphite, 256 GB)      130900\n",
            "32      APPLE iPhone 12 Pro Max (Graphite, 128 GB)      120900\n",
            "37        APPLE iPhone 12 Pro Max (Silver, 128 GB)      120900\n",
            "39          APPLE iPhone 12 Pro Max (Gold, 128 GB)      120900\n",
            "47  APPLE iPhone 12 Pro Max (Pacific Blue, 128 GB)      120900\n",
            "48        APPLE iPhone 12 Pro Max (Silver, 256 GB)      130900\n",
            "49          APPLE iPhone 12 Pro Max (Gold, 256 GB)      130900\n"
          ]
        }
      ]
    },
    {
      "cell_type": "markdown",
      "source": [
        "#### 2. Find the top 3 most-reviewed products per storage variant."
      ],
      "metadata": {
        "id": "y75KKNK5SR8g"
      }
    },
    {
      "cell_type": "code",
      "source": [
        "top3_reviews = data.sort_values(['Storage', 'Number Of Reviews'], ascending= [True, False])\n",
        "top3_per_storage = top3_reviews.groupby('Storage').head(3)\n",
        "print (top3_per_storage[['Product Name', 'Storage', 'Number Of Reviews']])"
      ],
      "metadata": {
        "colab": {
          "base_uri": "https://localhost:8080/"
        },
        "id": "EqNbLcgBVgqu",
        "outputId": "ca5add83-a5e2-4d0d-b659-b77293fec5bf"
      },
      "execution_count": null,
      "outputs": [
        {
          "output_type": "stream",
          "name": "stdout",
          "text": [
            "                                         Product Name Storage  \\\n",
            "53                    APPLE iPhone SE (Black, 128 GB)  128 GB   \n",
            "55                      APPLE iPhone SE (Red, 128 GB)  128 GB   \n",
            "54                    APPLE iPhone SE (White, 128 GB)  128 GB   \n",
            "23  Apple iPhone SE (White, 256 GB) (Includes EarP...  256 GB   \n",
            "3                     APPLE iPhone 8 (Silver, 256 GB)  256 GB   \n",
            "4                       APPLE iPhone 8 (Gold, 256 GB)  256 GB   \n",
            "19           APPLE iPhone 11 Pro (Space Grey, 512 GB)  512 GB   \n",
            "21       APPLE iPhone 11 Pro (Midnight Green, 512 GB)  512 GB   \n",
            "24               APPLE iPhone 12 Pro (Silver, 512 GB)  512 GB   \n",
            "57                     APPLE iPhone SE (Black, 64 GB)   64 GB   \n",
            "52                     APPLE iPhone SE (White, 64 GB)   64 GB   \n",
            "10  Apple iPhone XR (Black, 64 GB) (Includes EarPo...   64 GB   \n",
            "\n",
            "    Number Of Reviews  \n",
            "53               8161  \n",
            "55               8161  \n",
            "54               8154  \n",
            "23               8161  \n",
            "3                 794  \n",
            "4                 794  \n",
            "19                523  \n",
            "21                523  \n",
            "24                 42  \n",
            "57               8161  \n",
            "52               8154  \n",
            "10               6796  \n"
          ]
        }
      ]
    },
    {
      "cell_type": "code",
      "source": [
        "data.to_csv(\"cleaned_iphone_sales.csv\", index=False)"
      ],
      "metadata": {
        "id": "1JigQkmqcnwB"
      },
      "execution_count": null,
      "outputs": []
    }
  ]
}